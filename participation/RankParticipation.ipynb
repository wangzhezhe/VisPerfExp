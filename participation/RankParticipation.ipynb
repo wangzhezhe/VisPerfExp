{
    "cells": [
     {
      "cell_type": "code",
      "execution_count": 1,
      "id": "f6693403-c926-4581-9c02-d89e4b110eec",
      "metadata": {},
      "outputs": [],
      "source": [
       "import os, sys\n",
       "import numpy as np\n",
       "import matplotlib\n",
       "import matplotlib.pyplot as plt\n",
       "import matplotlib.patches as mpatches\n",
       "import statistics"
      ]
     },
     {
      "cell_type": "code",
      "execution_count": 2,
      "id": "b1b811ae-d519-4315-bb73-6ce980cd6d97",
      "metadata": {},
      "outputs": [],
      "source": [
       "def readTimeTrace(fdir, nRanks) :\n",
       "    TIMES = []\n",
       "    EVENTS = []\n",
       "    CNT = 0\n",
       "    print('dir=', fdir, 'nRanks=', nRanks)\n",
       "    for r in range(nRanks) :\n",
       "        fname = '%s/timetrace.%d.out'% (fdir, r)\n",
       "        #print('    reading: ', fname)\n",
       "        f = open(fname, 'r')\n",
       "        allLines = f.readlines()\n",
       "        #if r == 1 : print(allLines)\n",
       "\n",
       "        TIME = []\n",
       "        ADV = []\n",
       "        COMM = []\n",
       "        T0 = -1\n",
       "        AT0, AT1 = (0,0)\n",
       "        C0, C1 = (0,0)\n",
       "        EVENT = []\n",
       "        for line in allLines :\n",
       "            x = line.strip().split(' ')\n",
       "            event = x[0].split('_')[0]\n",
       "            step = int(x[0].split('_')[1])\n",
       "            time = float(x[1])\n",
       "            if step == 1 : continue\n",
       "            \n",
       "            #print('x=', x, 'step=',step, 'event=', event)\n",
       "            if len(TIME) == 0 and event == 'GoStart': T0 = time\n",
       "            time = time - T0\n",
       "            if event == 'AdvectStart' : AT0 = time\n",
       "            if event == 'AdvectEnd' :\n",
       "                AT1 = time\n",
       "                if AT1-AT0 > 1 : \n",
       "                    TIME.append(AT0)\n",
       "                    TIME.append(AT1)\n",
       "                    EVENT.append(['A', 'A'])\n",
       "            if event == 'CommStart' : C0 = time\n",
       "            if event == 'SendDataEnd' : \n",
       "                C1 = time\n",
       "                if C1-C0 > 1 :\n",
       "                    TIME.append(C0)\n",
       "                    TIME.append(C1)\n",
       "                    EVENT.append(['C', 'C'])\n",
       "                    #print('************ COMM = ', (C0,C1))\n",
       "\n",
       "            #elif event == 'CommStart' :   TIME.append(time)\n",
       "            #elif event == 'SyncCommStart' : TIME.append(time)\n",
       "        TIMES.append(TIME)\n",
       "        EVENTS.append(EVENT)\n",
       "    return TIMES, EVENTS\n",
       "\n",
       "def getTimeRange(TIMES) :\n",
       "    tMin = 1e20\n",
       "    tMax = -1e20\n",
       "\n",
       "    for t in TIMES[1:] :\n",
       "        if len(t) > 1 :\n",
       "            tMin = min(tMin, t[0])\n",
       "            tMax = max(tMax, t[-1])\n",
       "    return (tMin, tMax)\n",
       "\n",
       "def participationBins(TIMES, numBins) :\n",
       "    (tMin, tMax) = getTimeRange(TIMES)\n",
       "    dT = tMax/(numBins)\n",
       "    #print('************ tMin/Max= ', (tMin, tMax), 'dT= ', dT)\n",
       "\n",
       "    ALLPT = []\n",
       "    CNT = 0\n",
       "    for TIME in TIMES :\n",
       "        PT = [0] * numBins\n",
       "        N = len(TIME)\n",
       "        idx = 0\n",
       "        while idx < N :\n",
       "            binIdx0 = int(TIME[idx] / dT)\n",
       "            binIdx1 = int(TIME[idx+1] / dT)\n",
       "            if binIdx0 >= numBins : binIdx0 = numBins-1\n",
       "            if binIdx1 >= numBins : binIdx1 = numBins-1\n",
       "            #if CNT == 0 : print(idx, ': ******** bins: ', binIdx0, binIdx1, TIME[idx], TIME[idx+1])\n",
       "            PT[binIdx0] = 1\n",
       "            for b in range(binIdx0, binIdx1) : PT[b] = 1\n",
       "            idx = idx+2\n",
       "        ALLPT.append(PT)\n",
       "        CNT = CNT + 1\n",
       "    return ALLPT\n",
       "\n",
       "def calcParticipation(ALLBINS, nRanks, numBins) :\n",
       "    PARTICIPATION = [0]*numBins\n",
       "    for b in range(numBins) :\n",
       "        for r in range(nRanks) :\n",
       "            PARTICIPATION[b] += ALLBINS[r][b]\n",
       "        PARTICIPATION[b] = float(PARTICIPATION[b]) / float(nRanks)\n",
       "    return PARTICIPATION\n",
       "\n",
       "\n",
       "def mkLabel(imageNm) :\n",
       "    res = imageNm\n",
       "    res = imageNm.replace('0.clover', '0')\n",
       "    res = res.replace('.B.', '.WHOLE.')\n",
       "    res = res.replace('.B0.', '.BOX50.')\n",
       "    res = res.replace('.B1.', '.BOX25.') \n",
       "    res = res.replace('.B2.', '.BOX10.')\n",
       "    res = res.replace('.B3.', '.BOX05.')\n",
       "\n",
       "    return res\n",
       "\n",
       "def plotParticipation(pdata, TIMES, numBins, imageNm) :\n",
       "    (tMin, tMax) = getTimeRange(TIMES)\n",
       "    dT = tMax/(numBins)\n",
       "    #print('************************************* dT= ', dT)\n",
       "    X = [0]\n",
       "    for b in range(numBins-1) :\n",
       "        X.append(X[-1] + dT)\n",
       "    SUM = sum(pdata)\n",
       "    \n",
       "    #print('X=', X, len(X))\n",
       "    #print('Y=', pdata, len(pdata))\n",
       "    \n",
       "    imgLabel = mkLabel(imageNm)\n",
       "    \n",
       "    fig, ax = plt.subplots(figsize=(8,4))\n",
       "    ax.title.set_text('%s Avg= %f' %(imgLabel, SUM/numBins))\n",
       "    ax.set_ylim([0.0, 1.1])\n",
       "    ax.set_xlabel('Time (ms)', fontsize=\"large\")\n",
       "    ax.set_aspect('auto')\n",
       "    ax.set_ylabel('Rank Participation', fontsize=\"large\")\n",
       "    ax.plot(X, pdata)\n",
       "    #fig.savefig(imageNm + '.png')\n",
       "    \n",
       "    "
      ]
     },
     {
      "cell_type": "code",
      "execution_count": 3,
      "id": "01374e73-32f8-4aec-a1b7-8a6d2e243d40",
      "metadata": {},
      "outputs": [
       {
        "name": "stdout",
        "output_type": "stream",
        "text": [
         "/gpfs/alpine/csc143/proj-shared/pugmire/forJay/VisPerfExp/ubuntu_cpu_vtkm2.0/runDIR/weak-weak-output\n"
        ]
       }
      ],
      "source": [
       "cd /gpfs/alpine/csc143/proj-shared/pugmire/forJay/VisPerfExp/ubuntu_cpu_vtkm2.0/runDIR/weak-weak-output/"
      ]
     },
     {
      "cell_type": "code",
      "execution_count": 4,
      "id": "f5ad3005-0920-41fb-9fbe-c043520238f7",
      "metadata": {},
      "outputs": [],
      "source": [
       "def getRuns(fSel=None, blockSel=None, nodeSel=None, boxSel=None, parSel=None) :\n",
       "    allFiles = os.listdir('.')\n",
       "    res = []\n",
       "    for f in allFiles :\n",
       "        x = f.split('.')\n",
       "\n",
       "        if len(x) != 4 : continue\n",
       "        y = x[3].split('_')\n",
       "        takeIt = True\n",
       "        #print(x, 'B' in x[3])\n",
       "        if fSel and x[0] not in fSel : takeIt = False\n",
       "        if blockSel and x[1] not in blockSel : takeIt = False\n",
       "        if nodeSel and x[2] not in nodeSel : takeIt = False\n",
       "        if parSel and y[1] not in parSel : takeIt = False\n",
       "        if boxSel and takeIt :\n",
       "            if type(boxSel) == str : takeIt = boxSel == y[0]\n",
       "            else : takeIt = y[0] in boxSel\n",
       "     \n",
       "        if takeIt : res.append(f)\n",
       "    return res"
      ]
     },
     {
      "cell_type": "code",
      "execution_count": 5,
      "id": "bb2be95c-3b72-4be3-bb1f-d85447cd3f80",
      "metadata": {},
      "outputs": [],
      "source": [
       "BLOCK_MAP = {}\n",
       "BLOCK_MAP[32] =  '2_4_4'\n",
       "BLOCK_MAP[64] =  '4_4_4'\n",
       "BLOCK_MAP[128] = '4_4_8'\n",
       "BLOCK_MAP[256] = '4_8_8'\n",
       "BLOCK_MAP[512] = '8_8_8'"
      ]
     },
     {
      "cell_type": "code",
      "execution_count": 13,
      "id": "731f90ef-6968-420e-a879-7985b880aaf3",
      "metadata": {},
      "outputs": [
       {
        "name": "stdout",
        "output_type": "stream",
        "text": [
         "['clover.4_8_8.n16.B_p10000_s1000']\n"
        ]
       }
      ],
      "source": [
       "NBLOCKS=256\n",
       "NUM_RANKS = NBLOCKS\n",
       "\n",
       "runs = getRuns(fSel=['clover'], blockSel=BLOCK_MAP[NBLOCKS], boxSel='B')\n",
       "runs = getRuns(fSel=['clover', 'astro', 'fusion', 'fishtank'], nodeSel='n16', blockSel=BLOCK_MAP[NBLOCKS], boxSel='B')\n",
       "\n",
       "def cmp (x) :\n",
       "    v = int(x.split('.')[2][1:])\n",
       "    #print('x=',v)\n",
       "    return v\n",
       "\n",
       "if len(runs) > 0 : \n",
       "    runs = sorted(runs, key=cmp)\n",
       "runs.sort()\n",
       "print(runs)"
      ]
     },
     {
      "cell_type": "code",
      "execution_count": 14,
      "id": "d58f4400-c99e-42db-83dd-379664f296fa",
      "metadata": {},
      "outputs": [
       {
        "name": "stdout",
        "output_type": "stream",
        "text": [
         "1\n",
         "dir= clover.4_8_8.n16.B_p10000_s1000 nRanks= 256\n"
        ]
       },
       {
        "ename": "FileNotFoundError",
        "evalue": "[Errno 2] No such file or directory: 'clover.4_8_8.n16.B_p10000_s1000/timetrace.0.out'",
        "output_type": "error",
        "traceback": [
         "\u001b[0;31m---------------------------------------------------------------------------\u001b[0m",
         "\u001b[0;31mFileNotFoundError\u001b[0m                         Traceback (most recent call last)",
         "Cell \u001b[0;32mIn [14], line 6\u001b[0m\n\u001b[1;32m      2\u001b[0m \u001b[38;5;28mprint\u001b[39m(\u001b[38;5;28mlen\u001b[39m(runs))\n\u001b[1;32m      4\u001b[0m \u001b[38;5;28;01mfor\u001b[39;00m run \u001b[38;5;129;01min\u001b[39;00m runs :\n\u001b[1;32m      5\u001b[0m     \u001b[38;5;66;03m#print('reading: ', run)\u001b[39;00m\n\u001b[0;32m----> 6\u001b[0m     TIMES, EVENTS \u001b[38;5;241m=\u001b[39m \u001b[43mreadTimeTrace\u001b[49m\u001b[43m(\u001b[49m\u001b[43mrun\u001b[49m\u001b[43m,\u001b[49m\u001b[43m \u001b[49m\u001b[43mNUM_RANKS\u001b[49m\u001b[43m)\u001b[49m\n\u001b[1;32m      7\u001b[0m     \u001b[38;5;66;03m#print('T0= ', TIMES[0])\u001b[39;00m\n\u001b[1;32m      8\u001b[0m     ALLBINS \u001b[38;5;241m=\u001b[39m participationBins(TIMES, NUM_BINS)\n",
         "Cell \u001b[0;32mIn [2], line 9\u001b[0m, in \u001b[0;36mreadTimeTrace\u001b[0;34m(fdir, nRanks)\u001b[0m\n\u001b[1;32m      7\u001b[0m fname \u001b[38;5;241m=\u001b[39m \u001b[38;5;124m'\u001b[39m\u001b[38;5;132;01m%s\u001b[39;00m\u001b[38;5;124m/timetrace.\u001b[39m\u001b[38;5;132;01m%d\u001b[39;00m\u001b[38;5;124m.out\u001b[39m\u001b[38;5;124m'\u001b[39m\u001b[38;5;241m%\u001b[39m (fdir, r)\n\u001b[1;32m      8\u001b[0m \u001b[38;5;66;03m#print('    reading: ', fname)\u001b[39;00m\n\u001b[0;32m----> 9\u001b[0m f \u001b[38;5;241m=\u001b[39m \u001b[38;5;28;43mopen\u001b[39;49m\u001b[43m(\u001b[49m\u001b[43mfname\u001b[49m\u001b[43m,\u001b[49m\u001b[43m \u001b[49m\u001b[38;5;124;43m'\u001b[39;49m\u001b[38;5;124;43mr\u001b[39;49m\u001b[38;5;124;43m'\u001b[39;49m\u001b[43m)\u001b[49m\n\u001b[1;32m     10\u001b[0m allLines \u001b[38;5;241m=\u001b[39m f\u001b[38;5;241m.\u001b[39mreadlines()\n\u001b[1;32m     11\u001b[0m \u001b[38;5;66;03m#if r == 1 : print(allLines)\u001b[39;00m\n",
         "\u001b[0;31mFileNotFoundError\u001b[0m: [Errno 2] No such file or directory: 'clover.4_8_8.n16.B_p10000_s1000/timetrace.0.out'"
        ]
       }
      ],
      "source": [
       "NUM_BINS = 30\n",
       "print(len(runs))\n",
       "\n",
       "for run in runs :\n",
       "    #print('reading: ', run)\n",
       "    TIMES, EVENTS = readTimeTrace(run, NUM_RANKS)\n",
       "    #print('T0= ', TIMES[0])\n",
       "    ALLBINS = participationBins(TIMES, NUM_BINS)\n",
       "    #print('ALLBINS[0]=', ALLBINS[0])\n",
       "    #print('***', TIMES[0])\n",
       "    #print('ALLBINS[1]=', ALLBINS[1])\n",
       "    #print('***', TIMES[1])\n",
       "\n",
       "    #print('ALLBINS[31]=', ALLBINS[1])\n",
       "\n",
       "    PARTICIPATION = calcParticipation(ALLBINS, NUM_RANKS, NUM_BINS)\n",
       "    plotParticipation(PARTICIPATION, TIMES, NUM_BINS, run)\n",
       "    #print(PARTICIPATION)\n"
      ]
     },
     {
      "cell_type": "code",
      "execution_count": null,
      "id": "79f0fce5-46cd-4d2b-8a7d-2bb225eb343d",
      "metadata": {},
      "outputs": [],
      "source": []
     },
     {
      "cell_type": "code",
      "execution_count": 74,
      "id": "9fcb1257-4555-4d1c-b890-70a685076046",
      "metadata": {},
      "outputs": [
       {
        "name": "stdout",
        "output_type": "stream",
        "text": [
         "/gpfs/alpine/csc143/proj-shared/pugmire/forJay/VisPerfExp/ubuntu_cpu_vtkm2.0/runDIR/weak-weak-output\n"
        ]
       }
      ],
      "source": []
     },
     {
      "cell_type": "code",
      "execution_count": 62,
      "id": "d1712c0c-c9b9-4b0b-a245-f4cb43482ef6",
      "metadata": {},
      "outputs": [
       {
        "name": "stdout",
        "output_type": "stream",
        "text": [
         "/gpfs/alpine/csc143/proj-shared/pugmire/forJay/VisPerfExp/ubuntu_cpu_vtkm2.0/runDIR\n"
        ]
       }
      ],
      "source": [
       "cd /gpfs/alpine/csc143/proj-shared/pugmire/forJay/VisPerfExp/ubuntu_cpu_vtkm2.0/runDIR"
      ]
     },
     {
      "cell_type": "code",
      "execution_count": 70,
      "id": "0c8a2bbb-dca1-4db9-b4aa-4defe95839c9",
      "metadata": {},
      "outputs": [
       {
        "ename": "NameError",
        "evalue": "name 'shit' is not defined",
        "output_type": "error",
        "traceback": [
         "\u001b[0;31m---------------------------------------------------------------------------\u001b[0m",
         "\u001b[0;31mNameError\u001b[0m                                 Traceback (most recent call last)",
         "Cell \u001b[0;32mIn [70], line 2\u001b[0m\n\u001b[1;32m      1\u001b[0m \u001b[38;5;66;03m###poo poo\u001b[39;00m\n\u001b[0;32m----> 2\u001b[0m \u001b[43mshit\u001b[49m()\n\u001b[1;32m      3\u001b[0m NUM_RANKS\u001b[38;5;241m=\u001b[39m\u001b[38;5;241m8\u001b[39m\n\u001b[1;32m      4\u001b[0m NUM_BINS\u001b[38;5;241m=\u001b[39m\u001b[38;5;241m220\u001b[39m\n",
         "\u001b[0;31mNameError\u001b[0m: name 'shit' is not defined"
        ]
       }
      ],
      "source": [
       "###poo poo\n",
       "\n",
       "NUM_RANKS=8\n",
       "NUM_BINS=220\n",
       "\n",
       "TIMES, EVENTS = readTimeTrace('.', 8)\n",
       "\n",
       "ALLBINS = participationBins(TIMES, NUM_BINS)\n",
       "m,M = (0,0)\n",
       "for i in range(len(TIMES)) :\n",
       "    print('rank:', i, (TIMES[i][0], TIMES[i][-1]), 'N=', len(TIMES[i]), '\\n', ALLBINS[i])\n",
       "    if TIMES[i][-1] > M : M = TIMES[i][-1]\n",
       "    \n",
       "print(TIMES[2])\n",
       "print(EVENTS[2])\n",
       "dX = float(M) / float(NUM_BINS-1)\n",
       "X = []\n",
       "x = 0\n",
       "for i in range(NUM_BINS) :\n",
       "    X.append(i* dX)\n",
       "\n",
       "#PARTICIPATION = calcParticipation(ALLBINS, NUM_RANKS, NUM_BINS)\n",
       "#print(PARTICIPATION)\n",
       "#plotParticipation(PARTICIPATION, TIMES, NUM_BINS, 'test')\n",
       "\n",
       "#X = list(range(NUM_BINS))\n",
       "print(len(X))\n",
       "print(len(ALLBINS[0]))\n",
       "\n",
       "fig, ax = plt.subplots(figsize=(8,4))\n",
       "\n",
       "Y = [0] * NUM_BINS\n",
       "for r in range(NUM_RANKS) :\n",
       "    for b in range(NUM_BINS) :\n",
       "        Y[b] = Y[b] + ALLBINS[r][b]\n",
       "print('************************** Y ************************')\n",
       "print(Y)\n",
       "print(X)\n",
       "ax.plot(X, Y)\n"
      ]
     },
     {
      "cell_type": "code",
      "execution_count": null,
      "id": "4366fbf7-f233-48f3-b30a-4ecc58b202e0",
      "metadata": {},
      "outputs": [],
      "source": []
     }
    ],
    "metadata": {
     "kernelspec": {
      "display_name": "OLCF-base (ipykernel)",
      "language": "python",
      "name": "python3"
     },
     "language_info": {
      "codemirror_mode": {
       "name": "ipython",
       "version": 3
      },
      "file_extension": ".py",
      "mimetype": "text/x-python",
      "name": "python",
      "nbconvert_exporter": "python",
      "pygments_lexer": "ipython3",
      "version": "3.8.10"
     }
    },
    "nbformat": 4,
    "nbformat_minor": 5
   }
   